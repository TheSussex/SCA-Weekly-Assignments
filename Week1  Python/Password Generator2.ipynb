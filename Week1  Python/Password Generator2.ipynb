{
 "cells": [
  {
   "cell_type": "code",
   "execution_count": 1,
   "metadata": {},
   "outputs": [],
   "source": [
    "# Importing libraries\n",
    "\n",
    "import pandas as pd\n",
    "from numpy.random import randint\n",
    "import string\n",
    "from random import *"
   ]
  },
  {
   "cell_type": "code",
   "execution_count": 2,
   "metadata": {},
   "outputs": [
    {
     "name": "stdout",
     "output_type": "stream",
     "text": [
      "How many characters would you like to have in your password? (Your password should be a minimum of 6 characters long)6\n",
      "How many letters would you like to have in your password?3\n",
      "How many digits would you like to have in your password?2\n",
      "Your password is: 69do;W\n"
     ]
    }
   ],
   "source": [
    "#Asking the user to specify length of password \n",
    "length = int(input(\"How many characters would you like to have in your password? (Your password should be a minimum of 6 characters long)\"))\n",
    "\n",
    "while length < 6:\n",
    "  length = int(input(\"Please enter a number higher than 6\"))\n",
    "\n",
    "\n",
    "# Asking the user to select the number of letters in the password\n",
    "no_letters = int(input(\"How many letters would you like to have in your password?\"))\n",
    "\n",
    "while no_letters > length:\n",
    "  no_letters = int(input(\"The number of letters should be less than the total. How many letters would you like to have in your password?\"))\n",
    "\n",
    "\n",
    "# Asking the user to select the number of digits in the password\n",
    "no_digits = int(input(\"How many digits would you like to have in your password?\"))\n",
    "\n",
    "while no_digits + no_letters > length:\n",
    "  no_digits = int(input(\"The total number of numbers and letters combined should be less than the total. How many numbers would you like to have in your password?\"))\n",
    "\n",
    "\n",
    "\n",
    "# writing the function\n",
    "\n",
    "def password(length, no_letters, no_digits):\n",
    "  \"\"\"Get a random password with user input\"\"\"\n",
    "\n",
    "  # Random digits\n",
    "  characters = ''.join(choice(string.digits) for i in range(no_digits))\n",
    "\n",
    "  # Random letters\n",
    "  characters += ''.join(choice(string.ascii_letters) for i in range(no_letters))\n",
    "\n",
    "  # Random symbols\n",
    "  symbols = length - (no_letters + no_digits) # Calculating number of symbols\n",
    "\n",
    "  characters += ''.join(choice(string.punctuation) for i in range(symbols))\n",
    "\n",
    "\n",
    " \n",
    "  all_characters = list(characters) \n",
    "\n",
    "  shuffle(all_characters)       # mixing characters for more randomness\n",
    "\n",
    "  password = ''.join(all_characters) \n",
    "\n",
    "  print(\"Your password is:\", password)\n",
    "\n",
    "# Calling the function\n",
    "\n",
    "password(length, no_letters, no_digits)"
   ]
  },
  {
   "cell_type": "code",
   "execution_count": null,
   "metadata": {},
   "outputs": [],
   "source": []
  }
 ],
 "metadata": {
  "kernelspec": {
   "display_name": "Python 3",
   "language": "python",
   "name": "python3"
  },
  "language_info": {
   "codemirror_mode": {
    "name": "ipython",
    "version": 3
   },
   "file_extension": ".py",
   "mimetype": "text/x-python",
   "name": "python",
   "nbconvert_exporter": "python",
   "pygments_lexer": "ipython3",
   "version": "3.7.6"
  }
 },
 "nbformat": 4,
 "nbformat_minor": 4
}
