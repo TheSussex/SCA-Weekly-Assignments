{
 "cells": [
  {
   "cell_type": "code",
   "execution_count": 2,
   "metadata": {},
   "outputs": [
    {
     "name": "stdout",
     "output_type": "stream",
     "text": [
      "8\n",
      "Guess a number (between 1 and 20): \n",
      "6\n",
      "Your guess was too low, try a higher number\n",
      "4\n",
      "Your guess was too low, try a higher number\n",
      "3\n",
      "Your guess was too low, try a higher number\n",
      "0\n",
      "Your guess was too low, try a higher number\n",
      "9\n",
      "Your guess was too high, try a lower number\n",
      "Oops!, You've used up the no of tries, The number is 8\n"
     ]
    }
   ],
   "source": [
    "import random                                                  # generates random integers\n",
    "\n",
    "\n",
    "tries = 0                                                      # number of chances given to the user to guess the number  \n",
    "number = random.randint(1, 20) \n",
    "print(number)\n",
    "print(\"Guess a number (between 1 and 20): \")  \n",
    "\n",
    "while tries < 5: \n",
    "    \n",
    "    guess = int(input()) \n",
    "    if guess == number:\n",
    "        print(\"Correcto Perfecto!\") \n",
    "        break\n",
    "          \n",
    "    elif guess < number: \n",
    "        print(\"Your guess was too low, try a higher number\")             \n",
    "    else: \n",
    "        print(\"Your guess was too high, try a lower number\") \n",
    "          \n",
    "    # Increase the value of chance by 1 \n",
    "    tries += 1\n",
    "          \n",
    "if not tries < 5: \n",
    "    print(\"Oops!, You've used up the no of tries, The number is\", number) "
   ]
  },
  {
   "cell_type": "code",
   "execution_count": null,
   "metadata": {},
   "outputs": [],
   "source": []
  }
 ],
 "metadata": {
  "kernelspec": {
   "display_name": "Python 3",
   "language": "python",
   "name": "python3"
  },
  "language_info": {
   "codemirror_mode": {
    "name": "ipython",
    "version": 3
   },
   "file_extension": ".py",
   "mimetype": "text/x-python",
   "name": "python",
   "nbconvert_exporter": "python",
   "pygments_lexer": "ipython3",
   "version": "3.7.6"
  }
 },
 "nbformat": 4,
 "nbformat_minor": 4
}
