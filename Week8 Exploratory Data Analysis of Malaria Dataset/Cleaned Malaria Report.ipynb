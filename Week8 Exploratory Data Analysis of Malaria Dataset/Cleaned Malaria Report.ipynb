{
 "cells": [
  {
   "cell_type": "markdown",
   "metadata": {},
   "source": [
    "## Malaria Dataset: Cases and Deaths from Different Countries(2000-2017)"
   ]
  },
  {
   "cell_type": "markdown",
   "metadata": {},
   "source": [
    "Malaria is a life-threatening disease caused by the Plasmodioum falciparum parasite. It can be transmitted through the bites of infected female Anopheles mosquitoes.\n",
    "\n",
    "Worldwide, malaria causes over 400,000 deaths annually. The good news is that it is preventable and curable.\n",
    "\n",
    "The WHO African Region carries a disproportionately high share of the global malaria burden and records more deaths than other regions.\n",
    "\n",
    "In this notebook, I will analyse the WHO Malaria Report for the years 2000-2017. I will also answer insightful questions on geographical prevalence and progression of these events."
   ]
  },
  {
   "cell_type": "code",
   "execution_count": 1,
   "metadata": {},
   "outputs": [],
   "source": [
    "# importing libraries\n",
    "\n",
    "import pandas as pd                  # for data manipulation\n",
    "\n",
    "import numpy as np                   # for statistical analysis\n",
    "\n",
    "import matplotlib.pyplot as plt      # for plotting graphs\n",
    " \n",
    "%matplotlib inline                   \n",
    "# \"%matplotlib inline\" ensures commands in cells below the cell that outputs a plot does not affect the plot"
   ]
  },
  {
   "cell_type": "code",
   "execution_count": 2,
   "metadata": {
    "scrolled": false
   },
   "outputs": [
    {
     "data": {
      "text/html": [
       "<div>\n",
       "<style scoped>\n",
       "    .dataframe tbody tr th:only-of-type {\n",
       "        vertical-align: middle;\n",
       "    }\n",
       "\n",
       "    .dataframe tbody tr th {\n",
       "        vertical-align: top;\n",
       "    }\n",
       "\n",
       "    .dataframe thead th {\n",
       "        text-align: right;\n",
       "    }\n",
       "</style>\n",
       "<table border=\"1\" class=\"dataframe\">\n",
       "  <thead>\n",
       "    <tr style=\"text-align: right;\">\n",
       "      <th></th>\n",
       "      <th>Country</th>\n",
       "      <th>Year</th>\n",
       "      <th>No. of cases</th>\n",
       "      <th>No. of deaths</th>\n",
       "      <th>WHO Region</th>\n",
       "    </tr>\n",
       "  </thead>\n",
       "  <tbody>\n",
       "    <tr>\n",
       "      <th>0</th>\n",
       "      <td>Afghanistan</td>\n",
       "      <td>2017</td>\n",
       "      <td>161778.0</td>\n",
       "      <td>10.0</td>\n",
       "      <td>Eastern Mediterranean</td>\n",
       "    </tr>\n",
       "    <tr>\n",
       "      <th>1</th>\n",
       "      <td>Algeria</td>\n",
       "      <td>2017</td>\n",
       "      <td>0.0</td>\n",
       "      <td>0.0</td>\n",
       "      <td>Africa</td>\n",
       "    </tr>\n",
       "    <tr>\n",
       "      <th>2</th>\n",
       "      <td>Angola</td>\n",
       "      <td>2017</td>\n",
       "      <td>3874892.0</td>\n",
       "      <td>13967.0</td>\n",
       "      <td>Africa</td>\n",
       "    </tr>\n",
       "    <tr>\n",
       "      <th>3</th>\n",
       "      <td>Argentina</td>\n",
       "      <td>2017</td>\n",
       "      <td>0.0</td>\n",
       "      <td>1.0</td>\n",
       "      <td>Americas</td>\n",
       "    </tr>\n",
       "    <tr>\n",
       "      <th>4</th>\n",
       "      <td>Armenia</td>\n",
       "      <td>2017</td>\n",
       "      <td>0.0</td>\n",
       "      <td>NaN</td>\n",
       "      <td>Europe</td>\n",
       "    </tr>\n",
       "  </tbody>\n",
       "</table>\n",
       "</div>"
      ],
      "text/plain": [
       "       Country  Year  No. of cases  No. of deaths             WHO Region\n",
       "0  Afghanistan  2017      161778.0           10.0  Eastern Mediterranean\n",
       "1      Algeria  2017           0.0            0.0                 Africa\n",
       "2       Angola  2017     3874892.0        13967.0                 Africa\n",
       "3    Argentina  2017           0.0            1.0               Americas\n",
       "4      Armenia  2017           0.0            NaN                 Europe"
      ]
     },
     "execution_count": 2,
     "metadata": {},
     "output_type": "execute_result"
    }
   ],
   "source": [
    "#loading the dataset\n",
    "\n",
    "reported = pd.read_csv('reported_numbers.csv')\n",
    "\n",
    "\n",
    "# previewing the data\n",
    "\n",
    "reported.head()                     "
   ]
  },
  {
   "cell_type": "code",
   "execution_count": 3,
   "metadata": {},
   "outputs": [
    {
     "data": {
      "text/plain": [
       "(1944, 5)"
      ]
     },
     "execution_count": 3,
     "metadata": {},
     "output_type": "execute_result"
    }
   ],
   "source": [
    "reported.shape                         # returns the no. of rows and columns"
   ]
  },
  {
   "cell_type": "markdown",
   "metadata": {},
   "source": [
    "##### There are 5 columns and 1944 rows"
   ]
  },
  {
   "cell_type": "code",
   "execution_count": 4,
   "metadata": {
    "scrolled": false
   },
   "outputs": [
    {
     "data": {
      "text/html": [
       "<div>\n",
       "<style scoped>\n",
       "    .dataframe tbody tr th:only-of-type {\n",
       "        vertical-align: middle;\n",
       "    }\n",
       "\n",
       "    .dataframe tbody tr th {\n",
       "        vertical-align: top;\n",
       "    }\n",
       "\n",
       "    .dataframe thead th {\n",
       "        text-align: right;\n",
       "    }\n",
       "</style>\n",
       "<table border=\"1\" class=\"dataframe\">\n",
       "  <thead>\n",
       "    <tr style=\"text-align: right;\">\n",
       "      <th></th>\n",
       "      <th>Country</th>\n",
       "      <th>Year</th>\n",
       "      <th>No. of cases</th>\n",
       "      <th>No. of deaths</th>\n",
       "      <th>WHO Region</th>\n",
       "    </tr>\n",
       "  </thead>\n",
       "  <tbody>\n",
       "    <tr>\n",
       "      <th>count</th>\n",
       "      <td>1944</td>\n",
       "      <td>1944.000000</td>\n",
       "      <td>1.710000e+03</td>\n",
       "      <td>1675.000000</td>\n",
       "      <td>1944</td>\n",
       "    </tr>\n",
       "    <tr>\n",
       "      <th>unique</th>\n",
       "      <td>108</td>\n",
       "      <td>NaN</td>\n",
       "      <td>NaN</td>\n",
       "      <td>NaN</td>\n",
       "      <td>6</td>\n",
       "    </tr>\n",
       "    <tr>\n",
       "      <th>top</th>\n",
       "      <td>Bolivia (Plurinational State of)</td>\n",
       "      <td>NaN</td>\n",
       "      <td>NaN</td>\n",
       "      <td>NaN</td>\n",
       "      <td>Africa</td>\n",
       "    </tr>\n",
       "    <tr>\n",
       "      <th>freq</th>\n",
       "      <td>18</td>\n",
       "      <td>NaN</td>\n",
       "      <td>NaN</td>\n",
       "      <td>NaN</td>\n",
       "      <td>792</td>\n",
       "    </tr>\n",
       "    <tr>\n",
       "      <th>mean</th>\n",
       "      <td>NaN</td>\n",
       "      <td>2008.500000</td>\n",
       "      <td>3.897303e+05</td>\n",
       "      <td>1289.413731</td>\n",
       "      <td>NaN</td>\n",
       "    </tr>\n",
       "    <tr>\n",
       "      <th>std</th>\n",
       "      <td>NaN</td>\n",
       "      <td>5.189462</td>\n",
       "      <td>1.270270e+06</td>\n",
       "      <td>4290.739997</td>\n",
       "      <td>NaN</td>\n",
       "    </tr>\n",
       "    <tr>\n",
       "      <th>min</th>\n",
       "      <td>NaN</td>\n",
       "      <td>2000.000000</td>\n",
       "      <td>0.000000e+00</td>\n",
       "      <td>0.000000</td>\n",
       "      <td>NaN</td>\n",
       "    </tr>\n",
       "    <tr>\n",
       "      <th>25%</th>\n",
       "      <td>NaN</td>\n",
       "      <td>2004.000000</td>\n",
       "      <td>5.937500e+02</td>\n",
       "      <td>1.000000</td>\n",
       "      <td>NaN</td>\n",
       "    </tr>\n",
       "    <tr>\n",
       "      <th>50%</th>\n",
       "      <td>NaN</td>\n",
       "      <td>2008.500000</td>\n",
       "      <td>1.479200e+04</td>\n",
       "      <td>30.000000</td>\n",
       "      <td>NaN</td>\n",
       "    </tr>\n",
       "    <tr>\n",
       "      <th>75%</th>\n",
       "      <td>NaN</td>\n",
       "      <td>2013.000000</td>\n",
       "      <td>1.170978e+05</td>\n",
       "      <td>669.500000</td>\n",
       "      <td>NaN</td>\n",
       "    </tr>\n",
       "    <tr>\n",
       "      <th>max</th>\n",
       "      <td>NaN</td>\n",
       "      <td>2017.000000</td>\n",
       "      <td>1.533084e+07</td>\n",
       "      <td>51842.000000</td>\n",
       "      <td>NaN</td>\n",
       "    </tr>\n",
       "  </tbody>\n",
       "</table>\n",
       "</div>"
      ],
      "text/plain": [
       "                                 Country         Year  No. of cases  \\\n",
       "count                               1944  1944.000000  1.710000e+03   \n",
       "unique                               108          NaN           NaN   \n",
       "top     Bolivia (Plurinational State of)          NaN           NaN   \n",
       "freq                                  18          NaN           NaN   \n",
       "mean                                 NaN  2008.500000  3.897303e+05   \n",
       "std                                  NaN     5.189462  1.270270e+06   \n",
       "min                                  NaN  2000.000000  0.000000e+00   \n",
       "25%                                  NaN  2004.000000  5.937500e+02   \n",
       "50%                                  NaN  2008.500000  1.479200e+04   \n",
       "75%                                  NaN  2013.000000  1.170978e+05   \n",
       "max                                  NaN  2017.000000  1.533084e+07   \n",
       "\n",
       "        No. of deaths WHO Region  \n",
       "count     1675.000000       1944  \n",
       "unique            NaN          6  \n",
       "top               NaN     Africa  \n",
       "freq              NaN        792  \n",
       "mean      1289.413731        NaN  \n",
       "std       4290.739997        NaN  \n",
       "min          0.000000        NaN  \n",
       "25%          1.000000        NaN  \n",
       "50%         30.000000        NaN  \n",
       "75%        669.500000        NaN  \n",
       "max      51842.000000        NaN  "
      ]
     },
     "execution_count": 4,
     "metadata": {},
     "output_type": "execute_result"
    }
   ],
   "source": [
    "reported.describe(include = 'all')     # This is used to view basic statistical details like percentile, mean, std etc."
   ]
  },
  {
   "cell_type": "markdown",
   "metadata": {},
   "source": [
    "##### From the output of the .describe() query, we see that the data consists of 108 countries(unique) and 18 years report(freq)."
   ]
  },
  {
   "cell_type": "code",
   "execution_count": 7,
   "metadata": {
    "scrolled": false
   },
   "outputs": [
    {
     "data": {
      "text/plain": [
       "Country            0\n",
       "Year               0\n",
       "No. of cases     234\n",
       "No. of deaths    269\n",
       "WHO Region         0\n",
       "dtype: int64"
      ]
     },
     "execution_count": 7,
     "metadata": {},
     "output_type": "execute_result"
    }
   ],
   "source": [
    "# Checking to see if any feature has empty/missing values\n",
    "\n",
    "reported.isnull().sum()"
   ]
  },
  {
   "cell_type": "markdown",
   "metadata": {},
   "source": [
    "##### 'No. of cases' & 'No. of deaths' columns both have null values. since the values for each countries differ greatly, it'll be impractical to use the mode/mean imputation technique.\n",
    "##### In that case, the rows with missing values will be dropped, since we don't have sufficient information on that row."
   ]
  },
  {
   "cell_type": "code",
   "execution_count": 8,
   "metadata": {
    "scrolled": true
   },
   "outputs": [],
   "source": [
    "# dropping rows with null values\n",
    "\n",
    "reported.dropna(axis=0, how='any', thresh=None, subset=None, inplace=True)"
   ]
  },
  {
   "cell_type": "code",
   "execution_count": 9,
   "metadata": {
    "scrolled": false
   },
   "outputs": [
    {
     "data": {
      "text/plain": [
       "Country          0\n",
       "Year             0\n",
       "No. of cases     0\n",
       "No. of deaths    0\n",
       "WHO Region       0\n",
       "dtype: int64"
      ]
     },
     "execution_count": 9,
     "metadata": {},
     "output_type": "execute_result"
    }
   ],
   "source": [
    "# Let's confirm that there's no more null values\n",
    "\n",
    "reported.isnull().sum()"
   ]
  },
  {
   "cell_type": "markdown",
   "metadata": {},
   "source": [
    "##### Neat! No more null values, the data is clean. We can now start analysis."
   ]
  },
  {
   "cell_type": "code",
   "execution_count": 10,
   "metadata": {},
   "outputs": [
    {
     "data": {
      "text/html": [
       "<div>\n",
       "<style scoped>\n",
       "    .dataframe tbody tr th:only-of-type {\n",
       "        vertical-align: middle;\n",
       "    }\n",
       "\n",
       "    .dataframe tbody tr th {\n",
       "        vertical-align: top;\n",
       "    }\n",
       "\n",
       "    .dataframe thead th {\n",
       "        text-align: right;\n",
       "    }\n",
       "</style>\n",
       "<table border=\"1\" class=\"dataframe\">\n",
       "  <thead>\n",
       "    <tr style=\"text-align: right;\">\n",
       "      <th></th>\n",
       "      <th>No. of cases</th>\n",
       "      <th>No. of deaths</th>\n",
       "    </tr>\n",
       "    <tr>\n",
       "      <th>Country</th>\n",
       "      <th></th>\n",
       "      <th></th>\n",
       "    </tr>\n",
       "  </thead>\n",
       "  <tbody>\n",
       "    <tr>\n",
       "      <th>Democratic Republic of the Congo</th>\n",
       "      <td>74842893.0</td>\n",
       "      <td>328552.0</td>\n",
       "    </tr>\n",
       "    <tr>\n",
       "      <th>Uganda</th>\n",
       "      <td>41993628.0</td>\n",
       "      <td>70941.0</td>\n",
       "    </tr>\n",
       "    <tr>\n",
       "      <th>Burkina Faso</th>\n",
       "      <td>41655606.0</td>\n",
       "      <td>89211.0</td>\n",
       "    </tr>\n",
       "    <tr>\n",
       "      <th>Burundi</th>\n",
       "      <td>41264306.0</td>\n",
       "      <td>33484.0</td>\n",
       "    </tr>\n",
       "    <tr>\n",
       "      <th>Mozambique</th>\n",
       "      <td>40725992.0</td>\n",
       "      <td>34697.0</td>\n",
       "    </tr>\n",
       "    <tr>\n",
       "      <th>United Republic of Tanzania</th>\n",
       "      <td>33559165.0</td>\n",
       "      <td>183120.0</td>\n",
       "    </tr>\n",
       "    <tr>\n",
       "      <th>Ghana</th>\n",
       "      <td>28405332.0</td>\n",
       "      <td>37305.0</td>\n",
       "    </tr>\n",
       "    <tr>\n",
       "      <th>India</th>\n",
       "      <td>27013448.0</td>\n",
       "      <td>15218.0</td>\n",
       "    </tr>\n",
       "    <tr>\n",
       "      <th>Angola</th>\n",
       "      <td>26006152.0</td>\n",
       "      <td>125364.0</td>\n",
       "    </tr>\n",
       "    <tr>\n",
       "      <th>Malawi</th>\n",
       "      <td>19445640.0</td>\n",
       "      <td>31815.0</td>\n",
       "    </tr>\n",
       "  </tbody>\n",
       "</table>\n",
       "</div>"
      ],
      "text/plain": [
       "                                  No. of cases  No. of deaths\n",
       "Country                                                      \n",
       "Democratic Republic of the Congo    74842893.0       328552.0\n",
       "Uganda                              41993628.0        70941.0\n",
       "Burkina Faso                        41655606.0        89211.0\n",
       "Burundi                             41264306.0        33484.0\n",
       "Mozambique                          40725992.0        34697.0\n",
       "United Republic of Tanzania         33559165.0       183120.0\n",
       "Ghana                               28405332.0        37305.0\n",
       "India                               27013448.0        15218.0\n",
       "Angola                              26006152.0       125364.0\n",
       "Malawi                              19445640.0        31815.0"
      ]
     },
     "execution_count": 10,
     "metadata": {},
     "output_type": "execute_result"
    }
   ],
   "source": [
    "# Top 10 countries with the highest no of cases over the years?\n",
    "\n",
    "danger_zones = reported[['Country', 'No. of cases', 'No. of deaths']].groupby('Country').sum().sort_values(by = 'No. of cases', ascending = False)\n",
    "danger_zones.head(10)"
   ]
  },
  {
   "cell_type": "markdown",
   "metadata": {},
   "source": [
    "##### Congo recorded the highest no. of cases and deaths in the world. That's serious."
   ]
  },
  {
   "cell_type": "code",
   "execution_count": 11,
   "metadata": {
    "scrolled": false
   },
   "outputs": [
    {
     "data": {
      "text/html": [
       "<div>\n",
       "<style scoped>\n",
       "    .dataframe tbody tr th:only-of-type {\n",
       "        vertical-align: middle;\n",
       "    }\n",
       "\n",
       "    .dataframe tbody tr th {\n",
       "        vertical-align: top;\n",
       "    }\n",
       "\n",
       "    .dataframe thead th {\n",
       "        text-align: right;\n",
       "    }\n",
       "</style>\n",
       "<table border=\"1\" class=\"dataframe\">\n",
       "  <thead>\n",
       "    <tr style=\"text-align: right;\">\n",
       "      <th></th>\n",
       "      <th>No. of cases</th>\n",
       "      <th>No. of deaths</th>\n",
       "    </tr>\n",
       "    <tr>\n",
       "      <th>Country</th>\n",
       "      <th></th>\n",
       "      <th></th>\n",
       "    </tr>\n",
       "  </thead>\n",
       "  <tbody>\n",
       "    <tr>\n",
       "      <th>Egypt</th>\n",
       "      <td>0.0</td>\n",
       "      <td>10.0</td>\n",
       "    </tr>\n",
       "    <tr>\n",
       "      <th>Syrian Arab Republic</th>\n",
       "      <td>0.0</td>\n",
       "      <td>13.0</td>\n",
       "    </tr>\n",
       "    <tr>\n",
       "      <th>Morocco</th>\n",
       "      <td>3.0</td>\n",
       "      <td>9.0</td>\n",
       "    </tr>\n",
       "    <tr>\n",
       "      <th>Oman</th>\n",
       "      <td>19.0</td>\n",
       "      <td>4.0</td>\n",
       "    </tr>\n",
       "    <tr>\n",
       "      <th>Turkmenistan</th>\n",
       "      <td>62.0</td>\n",
       "      <td>0.0</td>\n",
       "    </tr>\n",
       "    <tr>\n",
       "      <th>Iraq</th>\n",
       "      <td>76.0</td>\n",
       "      <td>0.0</td>\n",
       "    </tr>\n",
       "    <tr>\n",
       "      <th>Armenia</th>\n",
       "      <td>355.0</td>\n",
       "      <td>0.0</td>\n",
       "    </tr>\n",
       "    <tr>\n",
       "      <th>Uzbekistan</th>\n",
       "      <td>632.0</td>\n",
       "      <td>1.0</td>\n",
       "    </tr>\n",
       "    <tr>\n",
       "      <th>Algeria</th>\n",
       "      <td>1044.0</td>\n",
       "      <td>4.0</td>\n",
       "    </tr>\n",
       "    <tr>\n",
       "      <th>Cabo Verde</th>\n",
       "      <td>1143.0</td>\n",
       "      <td>32.0</td>\n",
       "    </tr>\n",
       "  </tbody>\n",
       "</table>\n",
       "</div>"
      ],
      "text/plain": [
       "                      No. of cases  No. of deaths\n",
       "Country                                          \n",
       "Egypt                          0.0           10.0\n",
       "Syrian Arab Republic           0.0           13.0\n",
       "Morocco                        3.0            9.0\n",
       "Oman                          19.0            4.0\n",
       "Turkmenistan                  62.0            0.0\n",
       "Iraq                          76.0            0.0\n",
       "Armenia                      355.0            0.0\n",
       "Uzbekistan                   632.0            1.0\n",
       "Algeria                     1044.0            4.0\n",
       "Cabo Verde                  1143.0           32.0"
      ]
     },
     "execution_count": 11,
     "metadata": {},
     "output_type": "execute_result"
    }
   ],
   "source": [
    "# Top 10 countries with the lowest no of cases over the years?\n",
    "\n",
    "safe_countries = reported[['Country', 'No. of cases', 'No. of deaths']].groupby('Country').sum().sort_values(by = 'No. of cases', ascending = True)\n",
    "safe_countries.head(10)"
   ]
  },
  {
   "cell_type": "markdown",
   "metadata": {},
   "source": [
    "##### We see that about 8 countries have not recorded deaths due to malaria in 18 years! Impressive!"
   ]
  },
  {
   "cell_type": "markdown",
   "metadata": {},
   "source": [
    "##### Let's see the stats for my country Nigeria"
   ]
  },
  {
   "cell_type": "code",
   "execution_count": 12,
   "metadata": {
    "scrolled": true
   },
   "outputs": [
    {
     "data": {
      "text/html": [
       "<div>\n",
       "<style scoped>\n",
       "    .dataframe tbody tr th:only-of-type {\n",
       "        vertical-align: middle;\n",
       "    }\n",
       "\n",
       "    .dataframe tbody tr th {\n",
       "        vertical-align: top;\n",
       "    }\n",
       "\n",
       "    .dataframe thead th {\n",
       "        text-align: right;\n",
       "    }\n",
       "</style>\n",
       "<table border=\"1\" class=\"dataframe\">\n",
       "  <thead>\n",
       "    <tr style=\"text-align: right;\">\n",
       "      <th></th>\n",
       "      <th>Country</th>\n",
       "      <th>Year</th>\n",
       "      <th>No. of cases</th>\n",
       "      <th>No. of deaths</th>\n",
       "      <th>WHO Region</th>\n",
       "    </tr>\n",
       "  </thead>\n",
       "  <tbody>\n",
       "    <tr>\n",
       "      <th>394</th>\n",
       "      <td>Nigeria</td>\n",
       "      <td>2014</td>\n",
       "      <td>7826954.0</td>\n",
       "      <td>6082.0</td>\n",
       "      <td>Africa</td>\n",
       "    </tr>\n",
       "    <tr>\n",
       "      <th>826</th>\n",
       "      <td>Nigeria</td>\n",
       "      <td>2010</td>\n",
       "      <td>551187.0</td>\n",
       "      <td>4238.0</td>\n",
       "      <td>Africa</td>\n",
       "    </tr>\n",
       "    <tr>\n",
       "      <th>934</th>\n",
       "      <td>Nigeria</td>\n",
       "      <td>2009</td>\n",
       "      <td>479845.0</td>\n",
       "      <td>7522.0</td>\n",
       "      <td>Africa</td>\n",
       "    </tr>\n",
       "    <tr>\n",
       "      <th>1042</th>\n",
       "      <td>Nigeria</td>\n",
       "      <td>2008</td>\n",
       "      <td>143079.0</td>\n",
       "      <td>8677.0</td>\n",
       "      <td>Africa</td>\n",
       "    </tr>\n",
       "  </tbody>\n",
       "</table>\n",
       "</div>"
      ],
      "text/plain": [
       "      Country  Year  No. of cases  No. of deaths WHO Region\n",
       "394   Nigeria  2014     7826954.0         6082.0     Africa\n",
       "826   Nigeria  2010      551187.0         4238.0     Africa\n",
       "934   Nigeria  2009      479845.0         7522.0     Africa\n",
       "1042  Nigeria  2008      143079.0         8677.0     Africa"
      ]
     },
     "execution_count": 12,
     "metadata": {},
     "output_type": "execute_result"
    }
   ],
   "source": [
    "nigeria = reported[reported.Country == 'Nigeria']\n",
    "nigeria"
   ]
  },
  {
   "cell_type": "markdown",
   "metadata": {},
   "source": [
    "##### Sighs! We still have a long way to go as a nation. Of the 18 years, Nigeria has just 4 years of complete data, too bad. \n",
    "##### The no of cases has  greatly increased, although the death rate has been reducing. There isn't enough data to make conclusions."
   ]
  },
  {
   "cell_type": "markdown",
   "metadata": {},
   "source": [
    "##### Let's see how malaria events has progressed over the years."
   ]
  },
  {
   "cell_type": "code",
   "execution_count": 14,
   "metadata": {
    "scrolled": true
   },
   "outputs": [
    {
     "data": {
      "text/html": [
       "<div>\n",
       "<style scoped>\n",
       "    .dataframe tbody tr th:only-of-type {\n",
       "        vertical-align: middle;\n",
       "    }\n",
       "\n",
       "    .dataframe tbody tr th {\n",
       "        vertical-align: top;\n",
       "    }\n",
       "\n",
       "    .dataframe thead th {\n",
       "        text-align: right;\n",
       "    }\n",
       "</style>\n",
       "<table border=\"1\" class=\"dataframe\">\n",
       "  <thead>\n",
       "    <tr style=\"text-align: right;\">\n",
       "      <th></th>\n",
       "      <th>No. of cases</th>\n",
       "      <th>No. of deaths</th>\n",
       "    </tr>\n",
       "    <tr>\n",
       "      <th>Year</th>\n",
       "      <th></th>\n",
       "      <th></th>\n",
       "    </tr>\n",
       "  </thead>\n",
       "  <tbody>\n",
       "    <tr>\n",
       "      <th>2000</th>\n",
       "      <td>5279182.0</td>\n",
       "      <td>21419.0</td>\n",
       "    </tr>\n",
       "    <tr>\n",
       "      <th>2001</th>\n",
       "      <td>5534764.0</td>\n",
       "      <td>26162.0</td>\n",
       "    </tr>\n",
       "    <tr>\n",
       "      <th>2002</th>\n",
       "      <td>5335247.0</td>\n",
       "      <td>70683.0</td>\n",
       "    </tr>\n",
       "    <tr>\n",
       "      <th>2003</th>\n",
       "      <td>8243454.0</td>\n",
       "      <td>91247.0</td>\n",
       "    </tr>\n",
       "    <tr>\n",
       "      <th>2004</th>\n",
       "      <td>9389638.0</td>\n",
       "      <td>87926.0</td>\n",
       "    </tr>\n",
       "    <tr>\n",
       "      <th>2005</th>\n",
       "      <td>11170319.0</td>\n",
       "      <td>76842.0</td>\n",
       "    </tr>\n",
       "    <tr>\n",
       "      <th>2006</th>\n",
       "      <td>11898896.0</td>\n",
       "      <td>78995.0</td>\n",
       "    </tr>\n",
       "    <tr>\n",
       "      <th>2007</th>\n",
       "      <td>13365529.0</td>\n",
       "      <td>76904.0</td>\n",
       "    </tr>\n",
       "    <tr>\n",
       "      <th>2008</th>\n",
       "      <td>13395349.0</td>\n",
       "      <td>87024.0</td>\n",
       "    </tr>\n",
       "    <tr>\n",
       "      <th>2009</th>\n",
       "      <td>17454477.0</td>\n",
       "      <td>115694.0</td>\n",
       "    </tr>\n",
       "    <tr>\n",
       "      <th>2010</th>\n",
       "      <td>25484864.0</td>\n",
       "      <td>135936.0</td>\n",
       "    </tr>\n",
       "    <tr>\n",
       "      <th>2011</th>\n",
       "      <td>24817945.0</td>\n",
       "      <td>98690.0</td>\n",
       "    </tr>\n",
       "    <tr>\n",
       "      <th>2012</th>\n",
       "      <td>42265864.0</td>\n",
       "      <td>92357.0</td>\n",
       "    </tr>\n",
       "    <tr>\n",
       "      <th>2013</th>\n",
       "      <td>49175016.0</td>\n",
       "      <td>107591.0</td>\n",
       "    </tr>\n",
       "    <tr>\n",
       "      <th>2014</th>\n",
       "      <td>78001744.0</td>\n",
       "      <td>97273.0</td>\n",
       "    </tr>\n",
       "    <tr>\n",
       "      <th>2015</th>\n",
       "      <td>85379317.0</td>\n",
       "      <td>120335.0</td>\n",
       "    </tr>\n",
       "    <tr>\n",
       "      <th>2016</th>\n",
       "      <td>108212723.0</td>\n",
       "      <td>105929.0</td>\n",
       "    </tr>\n",
       "    <tr>\n",
       "      <th>2017</th>\n",
       "      <td>105109520.0</td>\n",
       "      <td>95803.0</td>\n",
       "    </tr>\n",
       "  </tbody>\n",
       "</table>\n",
       "</div>"
      ],
      "text/plain": [
       "      No. of cases  No. of deaths\n",
       "Year                             \n",
       "2000     5279182.0        21419.0\n",
       "2001     5534764.0        26162.0\n",
       "2002     5335247.0        70683.0\n",
       "2003     8243454.0        91247.0\n",
       "2004     9389638.0        87926.0\n",
       "2005    11170319.0        76842.0\n",
       "2006    11898896.0        78995.0\n",
       "2007    13365529.0        76904.0\n",
       "2008    13395349.0        87024.0\n",
       "2009    17454477.0       115694.0\n",
       "2010    25484864.0       135936.0\n",
       "2011    24817945.0        98690.0\n",
       "2012    42265864.0        92357.0\n",
       "2013    49175016.0       107591.0\n",
       "2014    78001744.0        97273.0\n",
       "2015    85379317.0       120335.0\n",
       "2016   108212723.0       105929.0\n",
       "2017   105109520.0        95803.0"
      ]
     },
     "execution_count": 14,
     "metadata": {},
     "output_type": "execute_result"
    }
   ],
   "source": [
    "# Progression of cases and deaths over the years\n",
    "\n",
    "annual = reported.groupby('Year').sum()\n",
    "annual"
   ]
  },
  {
   "cell_type": "code",
   "execution_count": 17,
   "metadata": {
    "scrolled": false
   },
   "outputs": [
    {
     "data": {
      "text/html": [
       "<div>\n",
       "<style scoped>\n",
       "    .dataframe tbody tr th:only-of-type {\n",
       "        vertical-align: middle;\n",
       "    }\n",
       "\n",
       "    .dataframe tbody tr th {\n",
       "        vertical-align: top;\n",
       "    }\n",
       "\n",
       "    .dataframe thead th {\n",
       "        text-align: right;\n",
       "    }\n",
       "</style>\n",
       "<table border=\"1\" class=\"dataframe\">\n",
       "  <thead>\n",
       "    <tr style=\"text-align: right;\">\n",
       "      <th></th>\n",
       "      <th>No. of cases</th>\n",
       "      <th>No. of deaths</th>\n",
       "    </tr>\n",
       "    <tr>\n",
       "      <th>Year</th>\n",
       "      <th></th>\n",
       "      <th></th>\n",
       "    </tr>\n",
       "  </thead>\n",
       "  <tbody>\n",
       "    <tr>\n",
       "      <th>2010</th>\n",
       "      <td>25484864.0</td>\n",
       "      <td>135936.0</td>\n",
       "    </tr>\n",
       "    <tr>\n",
       "      <th>2015</th>\n",
       "      <td>85379317.0</td>\n",
       "      <td>120335.0</td>\n",
       "    </tr>\n",
       "    <tr>\n",
       "      <th>2009</th>\n",
       "      <td>17454477.0</td>\n",
       "      <td>115694.0</td>\n",
       "    </tr>\n",
       "    <tr>\n",
       "      <th>2013</th>\n",
       "      <td>49175016.0</td>\n",
       "      <td>107591.0</td>\n",
       "    </tr>\n",
       "    <tr>\n",
       "      <th>2016</th>\n",
       "      <td>108212723.0</td>\n",
       "      <td>105929.0</td>\n",
       "    </tr>\n",
       "  </tbody>\n",
       "</table>\n",
       "</div>"
      ],
      "text/plain": [
       "      No. of cases  No. of deaths\n",
       "Year                             \n",
       "2010    25484864.0       135936.0\n",
       "2015    85379317.0       120335.0\n",
       "2009    17454477.0       115694.0\n",
       "2013    49175016.0       107591.0\n",
       "2016   108212723.0       105929.0"
      ]
     },
     "execution_count": 17,
     "metadata": {},
     "output_type": "execute_result"
    }
   ],
   "source": [
    "# What years were the most deaths reported?\n",
    "\n",
    "tough_years = reported.groupby('Year').sum().sort_values(by='No. of deaths', ascending=False)\n",
    "tough_years.head()"
   ]
  },
  {
   "cell_type": "markdown",
   "metadata": {},
   "source": [
    "##### 2010 has the highest number of deaths.\n",
    "##### There seems to be some improvement though; the no. of cases reported in 2016 is the highest so far, yet, less people died from the disease than did in 2010.This may be due to technological advances that introduced the use of rapid diagnostic test kits. This makes testing easier and produces faster results.\n",
    "##### This improvement can also be attributed to the generous funding provided to the research department. The mode of action of these parasites have been extensively studied and more antibiotics have been produced."
   ]
  },
  {
   "cell_type": "code",
   "execution_count": 20,
   "metadata": {
    "scrolled": true
   },
   "outputs": [
    {
     "data": {
      "text/html": [
       "<div>\n",
       "<style scoped>\n",
       "    .dataframe tbody tr th:only-of-type {\n",
       "        vertical-align: middle;\n",
       "    }\n",
       "\n",
       "    .dataframe tbody tr th {\n",
       "        vertical-align: top;\n",
       "    }\n",
       "\n",
       "    .dataframe thead th {\n",
       "        text-align: right;\n",
       "    }\n",
       "</style>\n",
       "<table border=\"1\" class=\"dataframe\">\n",
       "  <thead>\n",
       "    <tr style=\"text-align: right;\">\n",
       "      <th></th>\n",
       "      <th>Year</th>\n",
       "      <th>No. of cases</th>\n",
       "      <th>No. of deaths</th>\n",
       "    </tr>\n",
       "    <tr>\n",
       "      <th>WHO Region</th>\n",
       "      <th></th>\n",
       "      <th></th>\n",
       "      <th></th>\n",
       "    </tr>\n",
       "  </thead>\n",
       "  <tbody>\n",
       "    <tr>\n",
       "      <th>Africa</th>\n",
       "      <td>1129576</td>\n",
       "      <td>545111852.0</td>\n",
       "      <td>1480850.0</td>\n",
       "    </tr>\n",
       "    <tr>\n",
       "      <th>South-East Asia</th>\n",
       "      <td>303338</td>\n",
       "      <td>38305249.0</td>\n",
       "      <td>49802.0</td>\n",
       "    </tr>\n",
       "    <tr>\n",
       "      <th>Eastern Mediterranean</th>\n",
       "      <td>305474</td>\n",
       "      <td>15841260.0</td>\n",
       "      <td>26764.0</td>\n",
       "    </tr>\n",
       "    <tr>\n",
       "      <th>Western Pacific</th>\n",
       "      <td>383662</td>\n",
       "      <td>6709491.0</td>\n",
       "      <td>18330.0</td>\n",
       "    </tr>\n",
       "    <tr>\n",
       "      <th>Americas</th>\n",
       "      <td>733140</td>\n",
       "      <td>13433321.0</td>\n",
       "      <td>11039.0</td>\n",
       "    </tr>\n",
       "    <tr>\n",
       "      <th>Europe</th>\n",
       "      <td>267052</td>\n",
       "      <td>112675.0</td>\n",
       "      <td>25.0</td>\n",
       "    </tr>\n",
       "  </tbody>\n",
       "</table>\n",
       "</div>"
      ],
      "text/plain": [
       "                          Year  No. of cases  No. of deaths\n",
       "WHO Region                                                 \n",
       "Africa                 1129576   545111852.0      1480850.0\n",
       "South-East Asia         303338    38305249.0        49802.0\n",
       "Eastern Mediterranean   305474    15841260.0        26764.0\n",
       "Western Pacific         383662     6709491.0        18330.0\n",
       "Americas                733140    13433321.0        11039.0\n",
       "Europe                  267052      112675.0           25.0"
      ]
     },
     "execution_count": 20,
     "metadata": {},
     "output_type": "execute_result"
    }
   ],
   "source": [
    "# Are some region doing better than the others?\n",
    "\n",
    "region = reported.groupby('WHO Region').sum().sort_values(by='No. of deaths', ascending=False)\n",
    "region"
   ]
  },
  {
   "cell_type": "markdown",
   "metadata": {},
   "source": [
    "##### Africa remains the region with the highest number of cases and deaths. \n",
    "##### Europe has the least number of cases and deaths, some european countries have also been able to eradicate the disease."
   ]
  },
  {
   "cell_type": "markdown",
   "metadata": {},
   "source": [
    "#####  Interactive data visualizations were also carried out using Power BI"
   ]
  },
  {
   "cell_type": "markdown",
   "metadata": {},
   "source": [
    "### Conclusion\n",
    "##### Africa region needs all the help they can get, in form of funding, research support and materials.\n",
    "##### Awareness should also be created on the effect of antibiotics abuse since this has resulted in resistant to once-effective antimalarial drugs.\n"
   ]
  },
  {
   "cell_type": "code",
   "execution_count": null,
   "metadata": {},
   "outputs": [],
   "source": [
    "reported.to_csv('cleaned_reported.csv', index =False)"
   ]
  }
 ],
 "metadata": {
  "kernelspec": {
   "display_name": "Python 3",
   "language": "python",
   "name": "python3"
  },
  "language_info": {
   "codemirror_mode": {
    "name": "ipython",
    "version": 3
   },
   "file_extension": ".py",
   "mimetype": "text/x-python",
   "name": "python",
   "nbconvert_exporter": "python",
   "pygments_lexer": "ipython3",
   "version": "3.7.6"
  }
 },
 "nbformat": 4,
 "nbformat_minor": 4
}
